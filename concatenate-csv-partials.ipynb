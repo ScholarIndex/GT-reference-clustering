{
 "metadata": {
  "language_info": {
   "codemirror_mode": {
    "name": "ipython",
    "version": 3
   },
   "file_extension": ".py",
   "mimetype": "text/x-python",
   "name": "python",
   "nbconvert_exporter": "python",
   "pygments_lexer": "ipython3",
   "version": "3.8.0"
  },
  "orig_nbformat": 2,
  "kernelspec": {
   "name": "python380jvsc74a57bd01100b86d3f6fcd08520b7d66b4be8367f17e3f9d0eef515f9acd377291c5b2f9",
   "display_name": "Python 3.8.0 64-bit ('data-analysis': pyenv)"
  }
 },
 "nbformat": 4,
 "nbformat_minor": 2,
 "cells": [
  {
   "source": [
    "Notebook to concatenate all partial csv files for the dataset into a single file. Only the essential columns are kept."
   ],
   "cell_type": "markdown",
   "metadata": {}
  },
  {
   "cell_type": "code",
   "execution_count": 1,
   "metadata": {},
   "outputs": [],
   "source": [
    "import pandas as pd \n",
    "import os"
   ]
  },
  {
   "cell_type": "code",
   "execution_count": 2,
   "metadata": {},
   "outputs": [],
   "source": [
    "data_dir = \"data/\""
   ]
  },
  {
   "cell_type": "code",
   "execution_count": 3,
   "metadata": {},
   "outputs": [],
   "source": [
    "selected_fields = ['seed_ref', 'seed_ref_id', 'ref', 'ref_id', 'TRUE']"
   ]
  },
  {
   "cell_type": "code",
   "execution_count": 4,
   "metadata": {
    "tags": []
   },
   "outputs": [],
   "source": [
    "dfs = []\n",
    "partials_dir = os.path.join(data_dir, 'partials')\n",
    "for file in os.listdir(partials_dir):\n",
    "    if \".tsv\" in file:\n",
    "        #print(file)\n",
    "        tmp_df = pd.read_csv(os.path.join(partials_dir, file), sep='\\t')[selected_fields]\n",
    "        tmp_df['cluster_file'] = file\n",
    "        dfs.append(tmp_df)"
   ]
  },
  {
   "cell_type": "code",
   "execution_count": 5,
   "metadata": {},
   "outputs": [],
   "source": [
    "allinone_df = pd.concat(dfs, ignore_index=True)"
   ]
  },
  {
   "cell_type": "code",
   "execution_count": 6,
   "metadata": {},
   "outputs": [],
   "source": [
    "allinone_df.rename(columns={'TRUE':'same-bibl-entity'}, inplace=True)"
   ]
  },
  {
   "cell_type": "code",
   "execution_count": 7,
   "metadata": {},
   "outputs": [],
   "source": [
    "allinone_df.to_csv(os.path.join(data_dir, 'dataset.tsv'), sep='\\t')"
   ]
  },
  {
   "cell_type": "code",
   "execution_count": 15,
   "metadata": {},
   "outputs": [
    {
     "output_type": "execute_result",
     "data": {
      "text/plain": [
       "2886"
      ]
     },
     "metadata": {},
     "execution_count": 15
    }
   ],
   "source": [
    "# number of negative ref pairs\n",
    "allinone_df[allinone_df['same-bibl-entity']==0].shape[0]"
   ]
  },
  {
   "cell_type": "code",
   "execution_count": 16,
   "metadata": {},
   "outputs": [
    {
     "output_type": "execute_result",
     "data": {
      "text/plain": [
       "749"
      ]
     },
     "metadata": {},
     "execution_count": 16
    }
   ],
   "source": [
    "# number of positive ref pairs\n",
    "allinone_df[allinone_df['same-bibl-entity']==1].shape[0]"
   ]
  },
  {
   "cell_type": "code",
   "execution_count": 17,
   "metadata": {},
   "outputs": [
    {
     "output_type": "execute_result",
     "data": {
      "text/plain": [
       "3"
      ]
     },
     "metadata": {},
     "execution_count": 17
    }
   ],
   "source": [
    "# number of partly positive ref pairs\n",
    "allinone_df[allinone_df['same-bibl-entity']==0.5].shape[0]"
   ]
  },
  {
   "cell_type": "code",
   "execution_count": 18,
   "metadata": {},
   "outputs": [
    {
     "output_type": "execute_result",
     "data": {
      "text/plain": [
       "3638"
      ]
     },
     "metadata": {},
     "execution_count": 18
    }
   ],
   "source": [
    "# total number of ref pairs\n",
    "allinone_df.shape[0]"
   ]
  },
  {
   "cell_type": "code",
   "execution_count": null,
   "metadata": {},
   "outputs": [],
   "source": []
  }
 ]
}